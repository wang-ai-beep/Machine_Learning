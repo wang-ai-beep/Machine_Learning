{
 "cells": [
  {
   "cell_type": "markdown",
   "metadata": {},
   "source": [
    "# 基于面积的单因子房价预测"
   ]
  },
  {
   "cell_type": "raw",
   "metadata": {},
   "source": [
    "**任务:**\n",
    "基于课程中的房价预测案例与task1_data.csv数据，建立单因子线性回归模型，预测面积100平方米的房子售价100万是否值得投资：\n",
    "1、完成数据加载与可视化\n",
    "2、进行数据预处理: X、y赋值、格式转化、维度确认\n",
    "3、建立单因子线性回归模型，训练模型\n",
    "4、评估模型表现，可视化线性回归预测结果\n",
    "拓展任务：手动计算模型输出a、b后对应的损失函数，尝试其他ab组合，对比损失函数大小"
   ]
  },
  {
   "cell_type": "raw",
   "metadata": {},
   "source": [
    "@Author  : Flare Zhao\n",
    "@Email: 454209979@qq.com\n",
    "@添加学习小助手微信（ai_flare），加入AI学习讨论群。好友申请注明已购买的课程名称"
   ]
  },
  {
   "cell_type": "code",
   "execution_count": 1,
   "metadata": {},
   "outputs": [
    {
     "data": {
      "text/html": [
       "<div>\n",
       "<style scoped>\n",
       "    .dataframe tbody tr th:only-of-type {\n",
       "        vertical-align: middle;\n",
       "    }\n",
       "\n",
       "    .dataframe tbody tr th {\n",
       "        vertical-align: top;\n",
       "    }\n",
       "\n",
       "    .dataframe thead th {\n",
       "        text-align: right;\n",
       "    }\n",
       "</style>\n",
       "<table border=\"1\" class=\"dataframe\">\n",
       "  <thead>\n",
       "    <tr style=\"text-align: right;\">\n",
       "      <th></th>\n",
       "      <th>面积</th>\n",
       "      <th>房价</th>\n",
       "    </tr>\n",
       "  </thead>\n",
       "  <tbody>\n",
       "    <tr>\n",
       "      <th>0</th>\n",
       "      <td>68</td>\n",
       "      <td>414592</td>\n",
       "    </tr>\n",
       "    <tr>\n",
       "      <th>1</th>\n",
       "      <td>95</td>\n",
       "      <td>956877</td>\n",
       "    </tr>\n",
       "    <tr>\n",
       "      <th>2</th>\n",
       "      <td>102</td>\n",
       "      <td>1123582</td>\n",
       "    </tr>\n",
       "    <tr>\n",
       "      <th>3</th>\n",
       "      <td>130</td>\n",
       "      <td>893667</td>\n",
       "    </tr>\n",
       "    <tr>\n",
       "      <th>4</th>\n",
       "      <td>60</td>\n",
       "      <td>600000</td>\n",
       "    </tr>\n",
       "  </tbody>\n",
       "</table>\n",
       "</div>"
      ],
      "text/plain": [
       "    面积       房价\n",
       "0   68   414592\n",
       "1   95   956877\n",
       "2  102  1123582\n",
       "3  130   893667\n",
       "4   60   600000"
      ]
     },
     "execution_count": 1,
     "metadata": {},
     "output_type": "execute_result"
    }
   ],
   "source": [
    "#数据加载\n",
    "import pandas as pd\n",
    "import numpy as np\n",
    "data = pd.read_csv('task1_data.csv')\n",
    "data.head()"
   ]
  },
  {
   "cell_type": "code",
   "execution_count": 2,
   "metadata": {},
   "outputs": [
    {
     "name": "stdout",
     "output_type": "stream",
     "text": [
      "<class 'pandas.core.frame.DataFrame'>\n"
     ]
    }
   ],
   "source": [
    "print(type(data))"
   ]
  },
  {
   "cell_type": "code",
   "execution_count": 3,
   "metadata": {},
   "outputs": [
    {
     "data": {
      "text/plain": [
       "0     414592\n",
       "1     956877\n",
       "2    1123582\n",
       "3     893667\n",
       "4     600000\n",
       "Name: 房价, dtype: int64"
      ]
     },
     "execution_count": 3,
     "metadata": {},
     "output_type": "execute_result"
    }
   ],
   "source": [
    "#X y赋值\n",
    "X = data.loc[:,'面积']\n",
    "y = data.loc[:,'房价']\n",
    "y.head()"
   ]
  },
  {
   "cell_type": "code",
   "execution_count": 4,
   "metadata": {},
   "outputs": [
    {
     "data": {
      "image/png": "[encoded data removed]",
      "text/plain": [
       "<Figure size 432x288 with 1 Axes>"
      ]
     },
     "metadata": {
      "needs_background": "light"
     },
     "output_type": "display_data"
    }
   ],
   "source": [
    "#数据可视化\n",
    "from matplotlib import pyplot as plt\n",
    "fig1 = plt.figure()\n",
    "plt.scatter(X,y)\n",
    "plt.xlabel('size(x)')\n",
    "plt.ylabel('price(y)')\n",
    "plt.show()"
   ]
  },
  {
   "cell_type": "code",
   "execution_count": 5,
   "metadata": {},
   "outputs": [
    {
     "name": "stdout",
     "output_type": "stream",
     "text": [
      "<class 'pandas.core.series.Series'> (11,)\n"
     ]
    }
   ],
   "source": [
    "print(type(X),X.shape)"
   ]
  },
  {
   "cell_type": "code",
   "execution_count": 6,
   "metadata": {},
   "outputs": [
    {
     "name": "stdout",
     "output_type": "stream",
     "text": [
      "<class 'numpy.ndarray'> (11,)\n"
     ]
    }
   ],
   "source": [
    "#数据预处理\n",
    "X = np.array(X)\n",
    "y = np.array(y)\n",
    "print(type(X),X.shape)"
   ]
  },
  {
   "cell_type": "code",
   "execution_count": 7,
   "metadata": {},
   "outputs": [
    {
     "name": "stdout",
     "output_type": "stream",
     "text": [
      "<class 'numpy.ndarray'> (11, 1)\n"
     ]
    }
   ],
   "source": [
    "#维度转化\n",
    "X = X.reshape(-1,1)\n",
    "y = y.reshape(-1,1)\n",
    "print(type(X),X.shape)"
   ]
  },
  {
   "cell_type": "code",
   "execution_count": 8,
   "metadata": {},
   "outputs": [
    {
     "name": "stdout",
     "output_type": "stream",
     "text": [
      "LinearRegression()\n"
     ]
    }
   ],
   "source": [
    "#建立模型（线性回归模型）\n",
    "from sklearn.linear_model import LinearRegression\n",
    "model = LinearRegression()\n",
    "print(model)"
   ]
  },
  {
   "cell_type": "code",
   "execution_count": 9,
   "metadata": {},
   "outputs": [
    {
     "data": {
      "text/plain": [
       "LinearRegression()"
      ]
     },
     "execution_count": 9,
     "metadata": {},
     "output_type": "execute_result"
    }
   ],
   "source": [
    "#模型训练\n",
    "model.fit(X,y)"
   ]
  },
  {
   "cell_type": "code",
   "execution_count": 10,
   "metadata": {},
   "outputs": [
    {
     "name": "stdout",
     "output_type": "stream",
     "text": [
      "[[8905.69177214]]\n",
      "[53690.91547905]\n"
     ]
    }
   ],
   "source": [
    "#获取线性回归模型的参数a b\n",
    "a = model.coef_\n",
    "b = model.intercept_\n",
    "print(a)\n",
    "print(b)"
   ]
  },
  {
   "cell_type": "code",
   "execution_count": 11,
   "metadata": {},
   "outputs": [
    {
     "name": "stdout",
     "output_type": "stream",
     "text": [
      "[[ 659277.95598457]\n",
      " [ 899731.63383235]\n",
      " [ 962071.47623733]\n",
      " [1211430.84585725]\n",
      " [ 588032.42180745]\n",
      " [ 454447.04522535]\n",
      " [ 320861.66864325]\n",
      " [ 766146.25725025]\n",
      " [1122373.92813585]\n",
      " [1060034.08573087]\n",
      " [1389544.68130005]]\n",
      "[[ 414592]\n",
      " [ 956877]\n",
      " [1123582]\n",
      " [ 893667]\n",
      " [ 600000]\n",
      " [ 520000]\n",
      " [ 280000]\n",
      " [ 795000]\n",
      " [1150000]\n",
      " [1320000]\n",
      " [1380234]]\n"
     ]
    }
   ],
   "source": [
    "#结果预测\n",
    "y_predict = 8905.69177214*X+53690.91547905\n",
    "print(y_predict)\n",
    "print(y)"
   ]
  },
  {
   "cell_type": "code",
   "execution_count": 12,
   "metadata": {},
   "outputs": [
    {
     "name": "stdout",
     "output_type": "stream",
     "text": [
      "[[ 659277.95598426]\n",
      " [ 899731.63383191]\n",
      " [ 962071.47623686]\n",
      " [1211430.84585665]\n",
      " [ 588032.42180718]\n",
      " [ 454447.04522515]\n",
      " [ 320861.66864311]\n",
      " [ 766146.25724988]\n",
      " [1122373.9281353 ]\n",
      " [1060034.08573035]\n",
      " [1389544.68129936]]\n"
     ]
    }
   ],
   "source": [
    "#第二种预测方法\n",
    "y_predict2 = model.predict(X)\n",
    "print(y_predict2)"
   ]
  },
  {
   "cell_type": "code",
   "execution_count": 13,
   "metadata": {},
   "outputs": [
    {
     "name": "stdout",
     "output_type": "stream",
     "text": [
      "[[944260.09269259]]\n"
     ]
    }
   ],
   "source": [
    "#测试样本X_test = 100，计算y\n",
    "X_test = np.array([[100]])\n",
    "y_test_predict = model.predict(X_test)\n",
    "print(y_test_predict)"
   ]
  },
  {
   "cell_type": "code",
   "execution_count": 14,
   "metadata": {},
   "outputs": [
    {
     "data": {
      "image/png": "[encoded data removed]",
      "text/plain": [
       "<Figure size 432x288 with 1 Axes>"
      ]
     },
     "metadata": {
      "needs_background": "light"
     },
     "output_type": "display_data"
    }
   ],
   "source": [
    "#数据可视化\n",
    "fig2 = plt.figure()\n",
    "plt.scatter(X,y)\n",
    "plt.plot(X,y_predict,label='y_predict')\n",
    "plt.xlabel('size(x)')\n",
    "plt.ylabel('price(y)')\n",
    "plt.legend()\n",
    "plt.show()"
   ]
  },
  {
   "cell_type": "code",
   "execution_count": 15,
   "metadata": {},
   "outputs": [
    {
     "name": "stdout",
     "output_type": "stream",
     "text": [
      "24142828491.61458\n",
      "0.8059384532844912\n"
     ]
    }
   ],
   "source": [
    "#模型评估\n",
    "from sklearn.metrics import mean_squared_error,r2_score\n",
    "MSE = mean_squared_error(y,y_predict)\n",
    "R2 = r2_score(y,y_predict)\n",
    "print(MSE)\n",
    "print(R2)"
   ]
  },
  {
   "cell_type": "raw",
   "metadata": {},
   "source": [
    "单因子线性回归房价实战summary：\n",
    "1、学习并且实现了数据的加载与可视化；\n",
    "2、完成了数据的预处理、格式转化、维度确认等步骤；\n",
    "3、通过搭建线性回归模型，实现单因子的房屋价格预测；\n",
    "4、通过引入MSE、R2分数完成了模型表现评估，并且实现了结果的可视化；"
   ]
  },
  {
   "cell_type": "raw",
   "metadata": {},
   "source": [
    "学习资料链接（如果无法扫码，可添加小助手微信ai_flare获取）："
   ]
  },
  {
   "cell_type": "markdown",
   "metadata": {},
   "source": [
    "![materials](materials2.png)"
   ]
  },
  {
   "cell_type": "code",
   "execution_count": null,
   "metadata": {},
   "outputs": [],
   "source": []
  }
 ],
 "metadata": {
  "kernelspec": {
   "display_name": "Python 3",
   "language": "python",
   "name": "python3"
  },
  "language_info": {
   "codemirror_mode": {
    "name": "ipython",
    "version": 3
   },
   "file_extension": ".py",
   "mimetype": "text/x-python",
   "name": "python",
   "nbconvert_exporter": "python",
   "pygments_lexer": "ipython3",
   "version": "3.7.0"
  }
 },
 "nbformat": 4,
 "nbformat_minor": 2
}
