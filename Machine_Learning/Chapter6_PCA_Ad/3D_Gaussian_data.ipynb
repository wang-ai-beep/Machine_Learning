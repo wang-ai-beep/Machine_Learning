{
 "cells": [
  {
   "cell_type": "code",
   "execution_count": null,
   "metadata": {},
   "outputs": [],
   "source": [
    "import math\n",
    "#设置范围\n",
    "x_min, x_max = 0, 10\n",
    "y_min, y_max = 0, 400\n",
    "h1 = 0.1\n",
    "h2 = 0.1\n",
    "#生成矩阵数据\n",
    "xx, yy = np.meshgrid(np.arange(x_min, x_max, h1), np.arange(y_min, y_max, h2))\n",
    "print(xx.shape,yy.shape)\n",
    "\n",
    "#展开矩阵数据\n",
    "x_range = np.c_[xx.ravel(), yy.ravel()]\n",
    "x1 = np.c_[xx.ravel()]\n",
    "x2 = np.c_[yy.ravel()]\n",
    "x_range_df = pd.DataFrame(x_range)\n",
    "#x_range_df.to_csv('data.csv')\n",
    "#高斯分布参数\n",
    "u1 = x1_mean\n",
    "u2 = x2_mean\n",
    "sigma1 = x1_sigma\n",
    "sigma2 = x2_sigma\n",
    "\n",
    "#计算高斯分布概率\n",
    "p1 = 1/sigma1/math.sqrt(2*math.pi)*np.exp(-np.power((x1-u1),2)/2/math.pow(sigma1,2))\n",
    "p2 = 1/sigma2/math.sqrt(2*math.pi)*np.exp(-np.power((x2-u2),2)/2/math.pow(sigma2,2))\n",
    "p = np.multiply(p1,p2)\n",
    "#对概率密度维度转化\n",
    "p_2d = p.reshape(xx.shape[0],xx.shape[1])"
   ]
  }
 ],
 "metadata": {
  "kernelspec": {
   "display_name": "Python 3",
   "language": "python",
   "name": "python3"
  },
  "language_info": {
   "codemirror_mode": {
    "name": "ipython",
    "version": 3
   },
   "file_extension": ".py",
   "mimetype": "text/x-python",
   "name": "python",
   "nbconvert_exporter": "python",
   "pygments_lexer": "ipython3",
   "version": "3.7.0"
  }
 },
 "nbformat": 4,
 "nbformat_minor": 2
}
