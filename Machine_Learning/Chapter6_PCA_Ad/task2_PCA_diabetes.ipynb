{
 "cells": [
  {
   "cell_type": "markdown",
   "metadata": {},
   "source": [
    "# PCA+逻辑回归预测检查者是否患糖尿病"
   ]
  },
  {
   "cell_type": "raw",
   "metadata": {},
   "source": [
    "任务：\n",
    "\n",
    "基于task2_data数据，结合PCA降维技术与逻辑回归预测检查者患病情况\n",
    "1、对原数据建立逻辑回归模型，计算模型预测准确率；\n",
    "2、对数据进行标准化处理，选取glucose维度数据可视化处理后的效果；\n",
    "3、进行与原数据等维度PCA，查看各主成分的方差比例；\n",
    "4、保留2个主成分，可视化降维后的数据；\n",
    "5、基于降维后数据建立逻辑回归模型，与原数据表现进行对比，思考结果变化原因"
   ]
  },
  {
   "cell_type": "raw",
   "metadata": {},
   "source": [
    "@Author  : Flare Zhao\n",
    "@Email: 454209979@qq.com\n",
    "@添加学习小助手微信（ai_flare），加入AI学习讨论群。好友申请注明已购买的课程名称"
   ]
  },
  {
   "cell_type": "code",
   "execution_count": 16,
   "metadata": {},
   "outputs": [
    {
     "data": {
      "text/html": [
       "<div>\n",
       "<style scoped>\n",
       "    .dataframe tbody tr th:only-of-type {\n",
       "        vertical-align: middle;\n",
       "    }\n",
       "\n",
       "    .dataframe tbody tr th {\n",
       "        vertical-align: top;\n",
       "    }\n",
       "\n",
       "    .dataframe thead th {\n",
       "        text-align: right;\n",
       "    }\n",
       "</style>\n",
       "<table border=\"1\" class=\"dataframe\">\n",
       "  <thead>\n",
       "    <tr style=\"text-align: right;\">\n",
       "      <th></th>\n",
       "      <th>pregnant</th>\n",
       "      <th>glucose</th>\n",
       "      <th>bp</th>\n",
       "      <th>skin</th>\n",
       "      <th>insulin</th>\n",
       "      <th>bmi</th>\n",
       "      <th>pedigree</th>\n",
       "      <th>age</th>\n",
       "      <th>label</th>\n",
       "    </tr>\n",
       "  </thead>\n",
       "  <tbody>\n",
       "    <tr>\n",
       "      <th>0</th>\n",
       "      <td>9</td>\n",
       "      <td>122</td>\n",
       "      <td>56</td>\n",
       "      <td>0</td>\n",
       "      <td>0</td>\n",
       "      <td>33.3</td>\n",
       "      <td>1.114</td>\n",
       "      <td>33</td>\n",
       "      <td>1</td>\n",
       "    </tr>\n",
       "    <tr>\n",
       "      <th>1</th>\n",
       "      <td>2</td>\n",
       "      <td>112</td>\n",
       "      <td>66</td>\n",
       "      <td>22</td>\n",
       "      <td>0</td>\n",
       "      <td>25.0</td>\n",
       "      <td>0.307</td>\n",
       "      <td>24</td>\n",
       "      <td>0</td>\n",
       "    </tr>\n",
       "    <tr>\n",
       "      <th>2</th>\n",
       "      <td>1</td>\n",
       "      <td>103</td>\n",
       "      <td>30</td>\n",
       "      <td>38</td>\n",
       "      <td>83</td>\n",
       "      <td>43.3</td>\n",
       "      <td>0.183</td>\n",
       "      <td>33</td>\n",
       "      <td>0</td>\n",
       "    </tr>\n",
       "    <tr>\n",
       "      <th>3</th>\n",
       "      <td>1</td>\n",
       "      <td>138</td>\n",
       "      <td>82</td>\n",
       "      <td>0</td>\n",
       "      <td>0</td>\n",
       "      <td>40.1</td>\n",
       "      <td>0.236</td>\n",
       "      <td>28</td>\n",
       "      <td>0</td>\n",
       "    </tr>\n",
       "    <tr>\n",
       "      <th>4</th>\n",
       "      <td>9</td>\n",
       "      <td>72</td>\n",
       "      <td>78</td>\n",
       "      <td>25</td>\n",
       "      <td>0</td>\n",
       "      <td>31.6</td>\n",
       "      <td>0.280</td>\n",
       "      <td>38</td>\n",
       "      <td>0</td>\n",
       "    </tr>\n",
       "  </tbody>\n",
       "</table>\n",
       "</div>"
      ],
      "text/plain": [
       "   pregnant  glucose  bp  skin  insulin   bmi  pedigree  age  label\n",
       "0         9      122  56     0        0  33.3     1.114   33      1\n",
       "1         2      112  66    22        0  25.0     0.307   24      0\n",
       "2         1      103  30    38       83  43.3     0.183   33      0\n",
       "3         1      138  82     0        0  40.1     0.236   28      0\n",
       "4         9       72  78    25        0  31.6     0.280   38      0"
      ]
     },
     "execution_count": 16,
     "metadata": {},
     "output_type": "execute_result"
    }
   ],
   "source": [
    "#数据加载\n",
    "import pandas as pd\n",
    "import numpy as np\n",
    "data = pd.read_csv('task2_data.csv')\n",
    "data.head()"
   ]
  },
  {
   "cell_type": "code",
   "execution_count": 17,
   "metadata": {},
   "outputs": [
    {
     "data": {
      "text/plain": [
       "0    1\n",
       "1    0\n",
       "2    0\n",
       "3    0\n",
       "4    0\n",
       "Name: label, dtype: int64"
      ]
     },
     "execution_count": 17,
     "metadata": {},
     "output_type": "execute_result"
    }
   ],
   "source": [
    "#X y 赋值\n",
    "X = data.drop(['label'],axis=1)\n",
    "y = data.loc[:,'label']\n",
    "X.head()\n",
    "y.head()"
   ]
  },
  {
   "cell_type": "code",
   "execution_count": 18,
   "metadata": {},
   "outputs": [
    {
     "name": "stdout",
     "output_type": "stream",
     "text": [
      "(600, 8) (600,)\n"
     ]
    }
   ],
   "source": [
    "print(X.shape,y.shape)"
   ]
  },
  {
   "cell_type": "code",
   "execution_count": 19,
   "metadata": {},
   "outputs": [
    {
     "data": {
      "text/plain": [
       "LogisticRegression(max_iter=1000)"
      ]
     },
     "execution_count": 19,
     "metadata": {},
     "output_type": "execute_result"
    }
   ],
   "source": [
    "#逻辑回归模型\n",
    "from sklearn.linear_model import LogisticRegression\n",
    "model1 = LogisticRegression(max_iter=1000)\n",
    "model1.fit(X,y)"
   ]
  },
  {
   "cell_type": "code",
   "execution_count": 20,
   "metadata": {},
   "outputs": [
    {
     "name": "stdout",
     "output_type": "stream",
     "text": [
      "[1 0 0 0 0 0 1 0 0 0 0 1 0 1 0 1 0 0 0 0 0 0 0 0 0 0 0 1 0 1 0 1 1 0 0 1 0\n",
      " 0 0 0 0 0 0 1 0 0 0 0 0 0 0 0 0 0 0 1 0 0 1 0 0 0 0 0 0 1 0 1 0 0 0 0 0 1\n",
      " 1 0 0 0 0 0 0 0 0 0 0 0 0 1 0 0 0 0 1 0 0 0 0 0 0 0 0 0 1 1 0 1 0 0 0 1 0\n",
      " 0 0 0 0 0 0 0 1 0 0 0 0 0 0 0 0 0 0 0 0 0 1 1 0 0 1 1 0 0 0 0 0 0 0 1 1 1\n",
      " 0 0 0 1 0 0 0 0 0 1 0 0 1 0 0 0 0 0 0 0 1 0 0 0 0 0 0 0 0 0 0 0 0 1 0 0 0\n",
      " 0 0 1 0 1 1 0 0 1 0 1 0 0 0 1 0 1 0 1 1 1 0 0 0 0 1 0 0 0 0 0 0 0 0 1 0 1\n",
      " 0 0 0 0 0 1 1 1 0 0 0 0 1 1 0 0 1 0 1 0 0 0 0 0 1 0 0 0 0 0 0 0 1 0 1 0 1\n",
      " 0 0 0 0 0 0 0 1 0 0 1 0 0 1 1 0 0 1 0 1 0 0 0 0 0 0 0 0 1 0 0 0 1 1 0 0 0\n",
      " 0 1 0 0 1 0 1 1 0 0 1 0 0 1 0 0 1 1 0 0 1 0 0 0 1 0 0 1 0 1 0 0 0 1 0 0 0\n",
      " 0 0 0 0 1 0 1 1 0 0 0 0 0 0 1 1 0 0 0 0 1 0 0 1 0 0 1 1 0 1 0 0 0 1 0 0 0\n",
      " 0 0 0 0 0 0 0 1 1 0 0 0 1 1 0 1 1 0 1 0 0 0 0 0 0 0 1 0 0 0 0 0 0 1 0 0 1\n",
      " 1 0 0 0 1 0 0 0 1 0 0 0 1 0 0 0 0 0 1 0 0 1 0 0 0 1 1 1 1 0 0 0 1 1 0 0 0\n",
      " 1 1 1 1 0 0 0 0 0 1 1 0 1 1 1 0 0 0 0 1 0 0 0 0 0 0 0 0 0 0 1 0 1 0 0 1 0\n",
      " 0 0 0 0 1 0 0 0 0 0 0 0 0 0 0 0 1 0 0 1 0 1 1 0 1 0 0 1 0 0 1 0 0 0 1 0 0\n",
      " 0 1 0 0 0 1 0 0 1 1 0 1 0 1 0 0 0 0 0 0 0 1 0 0 1 0 1 0 0 0 0 1 1 1 0 0 1\n",
      " 0 1 1 1 0 0 0 0 0 0 1 0 1 0 0 0 1 0 0 0 0 0 0 1 1 1 0 0 0 1 0 0 0 1 0 1 1\n",
      " 0 0 1 0 0 1 0 1]\n"
     ]
    }
   ],
   "source": [
    "#结果预测\n",
    "y_predict = model1.predict(X)\n",
    "print(y_predict)"
   ]
  },
  {
   "cell_type": "code",
   "execution_count": 21,
   "metadata": {},
   "outputs": [
    {
     "name": "stdout",
     "output_type": "stream",
     "text": [
      "0.9183333333333333\n"
     ]
    }
   ],
   "source": [
    "#模型评估\n",
    "from sklearn.metrics import accuracy_score\n",
    "accuracy = accuracy_score(y,y_predict)\n",
    "print(accuracy)"
   ]
  },
  {
   "cell_type": "code",
   "execution_count": 22,
   "metadata": {},
   "outputs": [
    {
     "name": "stdout",
     "output_type": "stream",
     "text": [
      "[[ 1.61220139  0.09768458 -0.7354873  ...  0.26204583  2.01357116\n",
      "   0.04951422]\n",
      " [-0.51645181 -0.20789804 -0.16980036 ... -0.79351368 -0.48113519\n",
      "  -0.72549099]\n",
      " [-0.82054513 -0.4829224  -2.20627333 ...  1.53380426 -0.86446057\n",
      "   0.04951422]\n",
      " ...\n",
      " [ 1.00401476  1.99229683  0.84843612 ...  0.54183268 -0.33275117\n",
      "   0.73840774]\n",
      " [ 0.09173482 -0.26901457 -0.16980036 ...  0.08399964  0.02584355\n",
      "  -0.29493254]\n",
      " [-1.12463844  0.55605851 -1.6405864  ...  1.50836909  5.642797\n",
      "   0.04951422]]\n"
     ]
    }
   ],
   "source": [
    "#数据的标准化\n",
    "from sklearn.preprocessing import StandardScaler\n",
    "X_norm = StandardScaler().fit_transform(X)\n",
    "print(X_norm)"
   ]
  },
  {
   "cell_type": "code",
   "execution_count": 23,
   "metadata": {},
   "outputs": [
    {
     "name": "stdout",
     "output_type": "stream",
     "text": [
      "118.80333333333333 32.75167847546886 1.865174681370263e-16 0.9999999999999998\n"
     ]
    }
   ],
   "source": [
    "#计算均值与标准差\n",
    "x1_mean = X.loc[:,'glucose'].mean()\n",
    "x1_norm_mean = X_norm[:,1].mean()\n",
    "x1_sigma = X.loc[:,'glucose'].std()\n",
    "x1_norm_sigma = X_norm[:,1].std()\n",
    "print(x1_mean,x1_sigma,x1_norm_mean,x1_norm_sigma)\n"
   ]
  },
  {
   "cell_type": "code",
   "execution_count": 24,
   "metadata": {},
   "outputs": [
    {
     "data": {
      "image/png": "[encoded data removed]",
      "text/plain": [
       "<Figure size 864x360 with 2 Axes>"
      ]
     },
     "metadata": {
      "needs_background": "light"
     },
     "output_type": "display_data"
    }
   ],
   "source": [
    "from matplotlib import pyplot as plt\n",
    "fig1 = plt.figure(figsize=(12,5))\n",
    "fig1_1 = plt.subplot(121)\n",
    "plt.hist(X.loc[:,'glucose'],bins=100)\n",
    "\n",
    "fig1_2 = plt.subplot(122)\n",
    "plt.hist(X_norm[:,1],bins=100)\n",
    "plt.show()"
   ]
  },
  {
   "cell_type": "code",
   "execution_count": 25,
   "metadata": {},
   "outputs": [
    {
     "name": "stdout",
     "output_type": "stream",
     "text": [
      "[2.15669029 1.74035262 1.03817655 0.87890467 0.75186028 0.61865346\n",
      " 0.42446137 0.40425636]\n",
      "[0.26913698 0.2171815  0.12955578 0.10967998 0.0938259  0.0772028\n",
      " 0.05296924 0.05044782]\n",
      "1.0\n"
     ]
    }
   ],
   "source": [
    "#pca分析\n",
    "from sklearn.decomposition import PCA\n",
    "pca = PCA(n_components=8)\n",
    "X_pca = pca.fit_transform(X_norm)\n",
    "#计算分析后各成分的方差以及方差比例\n",
    "var = pca.explained_variance_\n",
    "var_ratio = pca.explained_variance_ratio_\n",
    "print(var)\n",
    "print(var_ratio)\n",
    "print(sum(var_ratio))"
   ]
  },
  {
   "cell_type": "code",
   "execution_count": 26,
   "metadata": {},
   "outputs": [
    {
     "data": {
      "image/png": "[encoded data removed]",
      "text/plain": [
       "<Figure size 720x360 with 1 Axes>"
      ]
     },
     "metadata": {
      "needs_background": "light"
     },
     "output_type": "display_data"
    }
   ],
   "source": [
    "#可视化方差比例\n",
    "fig2 = plt.figure(figsize=(10,5))\n",
    "plt.bar([1,2,3,4,5,6,7,8],var_ratio)\n",
    "plt.show()"
   ]
  },
  {
   "cell_type": "code",
   "execution_count": 27,
   "metadata": {},
   "outputs": [
    {
     "name": "stdout",
     "output_type": "stream",
     "text": [
      "(600, 2) (600, 8)\n",
      "[0.26913698 0.2171815 ]\n"
     ]
    }
   ],
   "source": [
    "#数据降维到2维\n",
    "pca = PCA(n_components=2)\n",
    "X_pca = pca.fit_transform(X_norm)\n",
    "print(X_pca.shape,X_norm.shape)\n",
    "#计算方差比例\n",
    "var_ratio2 = pca.explained_variance_ratio_\n",
    "print(var_ratio2)"
   ]
  },
  {
   "cell_type": "code",
   "execution_count": 28,
   "metadata": {},
   "outputs": [
    {
     "data": {
      "image/png": "[encoded data removed]",
      "text/plain": [
       "<Figure size 432x288 with 1 Axes>"
      ]
     },
     "metadata": {
      "needs_background": "light"
     },
     "output_type": "display_data"
    }
   ],
   "source": [
    "#降维数据的可视化\n",
    "fig3 = plt.figure()\n",
    "plt.scatter(X_pca[:,0][y==0],X_pca[:,1][y==0],marker='x',label='negative')\n",
    "plt.scatter(X_pca[:,0][y==1],X_pca[:,1][y==1],marker='*',label='positive')\n",
    "plt.legend()\n",
    "plt.show()"
   ]
  },
  {
   "cell_type": "code",
   "execution_count": 29,
   "metadata": {},
   "outputs": [
    {
     "data": {
      "text/plain": [
       "LogisticRegression()"
      ]
     },
     "execution_count": 29,
     "metadata": {},
     "output_type": "execute_result"
    }
   ],
   "source": [
    "#降维后的模型建立与训练\n",
    "model2 = LogisticRegression()\n",
    "model2.fit(X_pca,y)\n"
   ]
  },
  {
   "cell_type": "code",
   "execution_count": 30,
   "metadata": {},
   "outputs": [
    {
     "name": "stdout",
     "output_type": "stream",
     "text": [
      "0.8766666666666667\n"
     ]
    }
   ],
   "source": [
    "#模型预测\n",
    "y_predict_pca = model2.predict(X_pca)\n",
    "accuracy_pca = accuracy_score(y,y_predict_pca)\n",
    "print(accuracy_pca)"
   ]
  },
  {
   "cell_type": "raw",
   "metadata": {},
   "source": [
    "PCA+逻辑回归预测检查者是否患糖尿病实战summary：\n",
    "\n",
    "1、通过对原始数据建立逻辑回归模型，实现了糖尿病人检测，并达到了92%的准确率；\n",
    "2、实现了各个维度数据的标准化处理，并且通过可视化对比了处理后的数据分布变化；\n",
    "3、完成了PCA分析，并通过各主成分的方差比例帮助更好的理解信息的保留情况；\n",
    "4、基于PCA技术成功将数据从8D降维到2D，并将其可视化进行直观的观察；\n",
    "5、对降维后数据建立新的逻辑回归模型，新模型亦达到了88%的准确率，说明我们在将为的同时保留了最主要的信息。\n",
    "\n",
    "核心算法参考链接：https://scikit-learn.org/stable/modules/generated/sklearn.decomposition.PCA.html"
   ]
  },
  {
   "cell_type": "raw",
   "metadata": {},
   "source": [
    "学习资料链接（如果无法扫码，可添加小助手微信ai_flare获取）："
   ]
  },
  {
   "cell_type": "markdown",
   "metadata": {},
   "source": [
    "![materials](materials2.png)"
   ]
  },
  {
   "cell_type": "code",
   "execution_count": null,
   "metadata": {},
   "outputs": [],
   "source": []
  }
 ],
 "metadata": {
  "kernelspec": {
   "display_name": "Python 3",
   "language": "python",
   "name": "python3"
  },
  "language_info": {
   "codemirror_mode": {
    "name": "ipython",
    "version": 3
   },
   "file_extension": ".py",
   "mimetype": "text/x-python",
   "name": "python",
   "nbconvert_exporter": "python",
   "pygments_lexer": "ipython3",
   "version": "3.7.0"
  }
 },
 "nbformat": 4,
 "nbformat_minor": 2
}
