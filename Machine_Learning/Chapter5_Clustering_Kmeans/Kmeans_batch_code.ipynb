{
 "cells": [
  {
   "cell_type": "code",
   "execution_count": null,
   "metadata": {},
   "outputs": [],
   "source": [
    "#逐步迭代查看KMeans模型训练效果\n",
    "centers = np.array([[0,0,0,0]])\n",
    "for i in range(1,10):\n",
    "    KM = KMeans(n_clusters=2,random_state=1,init='random',n_init=1,max_iter=i)\n",
    "    KM.fit(X)\n",
    "\n",
    "    centers_i = KM.cluster_centers_\n",
    "    centers_i_temp = centers_i.reshape(1,-1)\n",
    "    centers = np.concatenate((centers,centers_i_temp),axis=0)\n",
    "    #predict based on training data\n",
    "    y_predict = KM.predict(X)\n",
    "\n",
    "    #visualize the data and results\n",
    "    fig_i = plt.figure()\n",
    "    label0 = plt.scatter(X.loc[:,'x1'][y_predict==0],X.loc[:,'x2'][y_predict==0])\n",
    "    label1 = plt.scatter(X.loc[:,'x1'][y_predict==1],X.loc[:,'x2'][y_predict==1])\n",
    "\n",
    "    plt.title(\"predicted data\")\n",
    "    plt.xlabel('x1')\n",
    "    plt.ylabel('x2')\n",
    "    plt.legend((label0,label1),('label0','label1'), loc='upper left')\n",
    "    plt.scatter(centers_i[:,0],centers_i[:,1])\n",
    "    fig_i.savefig('2d_output/{}.png'.format(i),dpi=500,bbox_inches = 'tight')\n"
   ]
  },
  {
   "cell_type": "code",
   "execution_count": null,
   "metadata": {},
   "outputs": [],
   "source": [
    "#生成gif动图\n",
    "import PIL.Image as Image\n",
    "def get_gif(pic_dir,n,t=1):\n",
    "    imgs = []\n",
    "    for i in range(1,n):\n",
    "        pic_name = '{}/{}.png'.format(pic_dir,i)\n",
    "        temp = Image.open(pic_name)\n",
    "        imgs.append(temp)\n",
    "    save_name = '{}.gif'.format(pic_dir)\n",
    "    imgs[0].save(save_name, save_all=True, append_images=imgs, duration=3)\n",
    "    return save_name\n",
    "\n",
    "\n",
    "pic_dir = '2d_output'\n",
    "save_name = get_gif(pic_dir,10,1)\n",
    "print('制作完成。文件为:{}'.format(save_name))"
   ]
  }
 ],
 "metadata": {
  "kernelspec": {
   "display_name": "Python 3",
   "language": "python",
   "name": "python3"
  },
  "language_info": {
   "codemirror_mode": {
    "name": "ipython",
    "version": 3
   },
   "file_extension": ".py",
   "mimetype": "text/x-python",
   "name": "python",
   "nbconvert_exporter": "python",
   "pygments_lexer": "ipython3",
   "version": "3.7.0"
  }
 },
 "nbformat": 4,
 "nbformat_minor": 2
}
