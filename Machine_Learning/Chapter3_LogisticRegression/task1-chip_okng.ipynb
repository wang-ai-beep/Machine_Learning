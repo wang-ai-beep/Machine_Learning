{
 "cells": [
  {
   "cell_type": "markdown",
   "metadata": {},
   "source": [
    "# 逻辑回归实现产品分类"
   ]
  },
  {
   "cell_type": "raw",
   "metadata": {},
   "source": [
    "**任务:**\n",
    "基于课程中的线性二分类案例与task1_data数据，建立逻辑回归模型，计算并绘制边界曲线，并预测x1=1, x2=10数据点属于什么类别。\n",
    "\n",
    "1、基于task1_data.csv数据，建立逻辑回归模型，评估模型表现；\n",
    "2、预测x1=1, x2=10时，改产品是良品（ok）还是次品\n",
    "3、获取边界函数参数、绘制边界函数"
   ]
  },
  {
   "cell_type": "raw",
   "metadata": {},
   "source": [
    "@Author  : Flare Zhao\n",
    "@Email: 454209979@qq.com\n",
    "@添加学习小助手微信（ai_flare），加入AI学习讨论群。好友申请注明已购买的课程名称"
   ]
  },
  {
   "cell_type": "code",
   "execution_count": 1,
   "metadata": {},
   "outputs": [
    {
     "data": {
      "text/html": [
       "<div>\n",
       "<style scoped>\n",
       "    .dataframe tbody tr th:only-of-type {\n",
       "        vertical-align: middle;\n",
       "    }\n",
       "\n",
       "    .dataframe tbody tr th {\n",
       "        vertical-align: top;\n",
       "    }\n",
       "\n",
       "    .dataframe thead th {\n",
       "        text-align: right;\n",
       "    }\n",
       "</style>\n",
       "<table border=\"1\" class=\"dataframe\">\n",
       "  <thead>\n",
       "    <tr style=\"text-align: right;\">\n",
       "      <th></th>\n",
       "      <th>尺寸1</th>\n",
       "      <th>尺寸2</th>\n",
       "      <th>y</th>\n",
       "    </tr>\n",
       "  </thead>\n",
       "  <tbody>\n",
       "    <tr>\n",
       "      <th>0</th>\n",
       "      <td>-1.78680</td>\n",
       "      <td>-0.943606</td>\n",
       "      <td>1</td>\n",
       "    </tr>\n",
       "    <tr>\n",
       "      <th>1</th>\n",
       "      <td>-1.52284</td>\n",
       "      <td>-1.048610</td>\n",
       "      <td>1</td>\n",
       "    </tr>\n",
       "    <tr>\n",
       "      <th>2</th>\n",
       "      <td>-1.31980</td>\n",
       "      <td>-1.324320</td>\n",
       "      <td>1</td>\n",
       "    </tr>\n",
       "    <tr>\n",
       "      <th>3</th>\n",
       "      <td>-1.29949</td>\n",
       "      <td>-0.536819</td>\n",
       "      <td>1</td>\n",
       "    </tr>\n",
       "    <tr>\n",
       "      <th>4</th>\n",
       "      <td>-1.19797</td>\n",
       "      <td>-0.845908</td>\n",
       "      <td>1</td>\n",
       "    </tr>\n",
       "  </tbody>\n",
       "</table>\n",
       "</div>"
      ],
      "text/plain": [
       "       尺寸1       尺寸2  y\n",
       "0 -1.78680 -0.943606  1\n",
       "1 -1.52284 -1.048610  1\n",
       "2 -1.31980 -1.324320  1\n",
       "3 -1.29949 -0.536819  1\n",
       "4 -1.19797 -0.845908  1"
      ]
     },
     "execution_count": 1,
     "metadata": {},
     "output_type": "execute_result"
    }
   ],
   "source": [
    "#加载数据、\n",
    "import pandas as pd\n",
    "import numpy as np\n",
    "data = pd.read_csv('task1_data.csv')\n",
    "data.head()"
   ]
  },
  {
   "cell_type": "code",
   "execution_count": 2,
   "metadata": {},
   "outputs": [
    {
     "data": {
      "image/png": "[encoded data removed]",
      "text/plain": [
       "<Figure size 432x288 with 1 Axes>"
      ]
     },
     "metadata": {
      "needs_background": "light"
     },
     "output_type": "display_data"
    }
   ],
   "source": [
    "#数据可视化\n",
    "from matplotlib import pyplot as plt\n",
    "fig1 = plt.figure()\n",
    "plt.scatter(data.loc[:,'尺寸1'],data.loc[:,'尺寸2'])\n",
    "plt.title('chip size1-size2')\n",
    "plt.xlabel('size1')\n",
    "plt.ylabel('size2')\n",
    "plt.show()"
   ]
  },
  {
   "cell_type": "code",
   "execution_count": 3,
   "metadata": {},
   "outputs": [
    {
     "name": "stdout",
     "output_type": "stream",
     "text": [
      "0      True\n",
      "1      True\n",
      "2      True\n",
      "3      True\n",
      "4      True\n",
      "      ...  \n",
      "95    False\n",
      "96    False\n",
      "97    False\n",
      "98    False\n",
      "99    False\n",
      "Name: y, Length: 100, dtype: bool\n"
     ]
    }
   ],
   "source": [
    "#建立筛选良品、次品的变量mask\n",
    "mask = data.loc[:,'y']==1\n",
    "print(mask)"
   ]
  },
  {
   "cell_type": "code",
   "execution_count": 4,
   "metadata": {},
   "outputs": [
    {
     "data": {
      "image/png": "[encoded data removed]",
      "text/plain": [
       "<Figure size 432x288 with 1 Axes>"
      ]
     },
     "metadata": {
      "needs_background": "light"
     },
     "output_type": "display_data"
    }
   ],
   "source": [
    "fig1 = plt.figure()\n",
    "ok = plt.scatter(data.loc[:,'尺寸1'][mask],data.loc[:,'尺寸2'][mask])\n",
    "ng = plt.scatter(data.loc[:,'尺寸1'][~mask],data.loc[:,'尺寸2'][~mask])\n",
    "\n",
    "plt.title('chip size1-size2')\n",
    "plt.xlabel('size1')\n",
    "plt.ylabel('size2')\n",
    "plt.legend((ok,ng),('ok','ng'))\n",
    "plt.show()"
   ]
  },
  {
   "cell_type": "code",
   "execution_count": 5,
   "metadata": {},
   "outputs": [
    {
     "data": {
      "text/plain": [
       "0    1\n",
       "1    1\n",
       "2    1\n",
       "3    1\n",
       "4    1\n",
       "Name: y, dtype: int64"
      ]
     },
     "execution_count": 5,
     "metadata": {},
     "output_type": "execute_result"
    }
   ],
   "source": [
    "#X y赋值\n",
    "X = data.drop(['y'],axis=1)\n",
    "y = data.loc[:,'y']\n",
    "X.head()\n",
    "y.head()"
   ]
  },
  {
   "cell_type": "code",
   "execution_count": 6,
   "metadata": {},
   "outputs": [
    {
     "data": {
      "text/plain": [
       "LogisticRegression()"
      ]
     },
     "execution_count": 6,
     "metadata": {},
     "output_type": "execute_result"
    }
   ],
   "source": [
    "#模型建立与训练\n",
    "from sklearn.linear_model import LogisticRegression\n",
    "model = LogisticRegression()\n",
    "model.fit(X,y)"
   ]
  },
  {
   "cell_type": "code",
   "execution_count": 7,
   "metadata": {},
   "outputs": [
    {
     "name": "stdout",
     "output_type": "stream",
     "text": [
      "[1 1 1 1 1 1 1 1 1 1 1 1 1 1 1 1 1 1 1 1 1 1 1 1 1 1 1 1 1 1 1 1 1 1 1 1 1\n",
      " 1 1 1 1 1 1 1 1 1 1 1 1 1 0 0 0 0 0 0 0 0 0 0 0 0 0 0 0 0 0 0 0 0 0 0 0 0\n",
      " 0 0 0 0 0 0 0 0 0 0 0 0 0 0 0 0 0 0 0 0 0 0 0 0 0 0]\n"
     ]
    }
   ],
   "source": [
    "#模型预测\n",
    "y_predict = model.predict(X)\n",
    "print(y_predict)"
   ]
  },
  {
   "cell_type": "code",
   "execution_count": 8,
   "metadata": {},
   "outputs": [
    {
     "name": "stdout",
     "output_type": "stream",
     "text": [
      "1.0\n"
     ]
    }
   ],
   "source": [
    "#模型评估\n",
    "from sklearn.metrics import accuracy_score\n",
    "accuracy = accuracy_score(y,y_predict)\n",
    "print(accuracy)"
   ]
  },
  {
   "cell_type": "code",
   "execution_count": 9,
   "metadata": {},
   "outputs": [
    {
     "name": "stdout",
     "output_type": "stream",
     "text": [
      "ng\n"
     ]
    }
   ],
   "source": [
    "X_test = np.array([[1,10]])\n",
    "#测试样本预测\n",
    "y_test_p = model.predict(X_test)\n",
    "print('ok' if y_test_p==1 else 'ng')"
   ]
  },
  {
   "cell_type": "markdown",
   "metadata": {},
   "source": [
    "边界函数： $\\theta_0 + \\theta_1 X_1 + \\theta_2 X_2 = 0$"
   ]
  },
  {
   "cell_type": "code",
   "execution_count": 10,
   "metadata": {},
   "outputs": [
    {
     "name": "stdout",
     "output_type": "stream",
     "text": [
      "[2.7887966]\n",
      "[[ 2.73058015 -2.82554755]]\n"
     ]
    }
   ],
   "source": [
    "#获取边界函数的参数\n",
    "print(model.intercept_)\n",
    "print(model.coef_)"
   ]
  },
  {
   "cell_type": "code",
   "execution_count": 11,
   "metadata": {},
   "outputs": [
    {
     "name": "stdout",
     "output_type": "stream",
     "text": [
      "2.7887965961686616 2.730580148169416 -2.825547547161019\n"
     ]
    }
   ],
   "source": [
    "theta0 = model.intercept_[0]\n",
    "theta1, theta2 = model.coef_[0][0],model.coef_[0][1]\n",
    "print(theta0,theta1,theta2)"
   ]
  },
  {
   "cell_type": "code",
   "execution_count": 12,
   "metadata": {},
   "outputs": [
    {
     "name": "stdout",
     "output_type": "stream",
     "text": [
      "0    -1.78680\n",
      "1    -1.52284\n",
      "2    -1.31980\n",
      "3    -1.29949\n",
      "4    -1.19797\n",
      "       ...   \n",
      "95    1.60446\n",
      "96    1.74325\n",
      "97    1.74449\n",
      "98    1.98679\n",
      "99    2.00533\n",
      "Name: 尺寸1, Length: 100, dtype: float64\n"
     ]
    }
   ],
   "source": [
    "X1 = data.loc[:,'尺寸1']\n",
    "print(X1)"
   ]
  },
  {
   "cell_type": "code",
   "execution_count": 13,
   "metadata": {},
   "outputs": [
    {
     "name": "stdout",
     "output_type": "stream",
     "text": [
      "0    -0.739752\n",
      "1    -0.484664\n",
      "2    -0.288448\n",
      "3    -0.268820\n",
      "4    -0.170713\n",
      "        ...   \n",
      "95    2.537527\n",
      "96    2.671652\n",
      "97    2.672851\n",
      "98    2.907007\n",
      "99    2.924924\n",
      "Name: 尺寸1, Length: 100, dtype: float64\n"
     ]
    }
   ],
   "source": [
    "#计算边界函数上对应的X2\n",
    "X2_new = -(theta0+theta1*X1)/theta2\n",
    "print(X2_new)"
   ]
  },
  {
   "cell_type": "code",
   "execution_count": 14,
   "metadata": {},
   "outputs": [
    {
     "data": {
      "image/png": "[encoded data removed]",
      "text/plain": [
       "<Figure size 432x288 with 1 Axes>"
      ]
     },
     "metadata": {
      "needs_background": "light"
     },
     "output_type": "display_data"
    }
   ],
   "source": [
    "fig3 = plt.figure()\n",
    "ok = plt.scatter(data.loc[:,'尺寸1'][mask],data.loc[:,'尺寸2'][mask])\n",
    "ng = plt.scatter(data.loc[:,'尺寸1'][~mask],data.loc[:,'尺寸2'][~mask])\n",
    "plt.plot(X1,X2_new)\n",
    "plt.title('chip size1-size2')\n",
    "plt.xlabel('size1')\n",
    "plt.ylabel('size2')\n",
    "plt.legend((ok,ng),('ok','ng'))\n",
    "plt.show()"
   ]
  },
  {
   "cell_type": "raw",
   "metadata": {},
   "source": [
    "逻辑回归实现产品分类实战summary：\n",
    "1、通过搭建线性边界逻辑回归模型，实现了产品良品、次品分类预测；\n",
    "2、引入准确率作为评估指标、结合结果可视化完成了模型评估；\n",
    "3、调用predict方法对新的样本做了预测，发现其为NG次品类别；\n",
    "4、实现了分类边界的可视化，帮助理解分类任务的原理与过程。\n",
    "参考链接：\n",
    "https://scikit-learn.org/stable/modules/generated/sklearn.linear_model.LogisticRegression.html"
   ]
  },
  {
   "cell_type": "raw",
   "metadata": {},
   "source": [
    "学习资料链接（如果无法扫码，可添加小助手微信ai_flare获取）："
   ]
  },
  {
   "cell_type": "markdown",
   "metadata": {},
   "source": [
    "![materials](materials2.png)"
   ]
  },
  {
   "cell_type": "code",
   "execution_count": null,
   "metadata": {},
   "outputs": [],
   "source": []
  }
 ],
 "metadata": {
  "kernelspec": {
   "display_name": "Python 3",
   "language": "python",
   "name": "python3"
  },
  "language_info": {
   "codemirror_mode": {
    "name": "ipython",
    "version": 3
   },
   "file_extension": ".py",
   "mimetype": "text/x-python",
   "name": "python",
   "nbconvert_exporter": "python",
   "pygments_lexer": "ipython3",
   "version": "3.7.0"
  }
 },
 "nbformat": 4,
 "nbformat_minor": 2
}
